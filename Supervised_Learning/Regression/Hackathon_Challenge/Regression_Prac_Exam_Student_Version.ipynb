{
 "cells": [
  {
   "cell_type": "markdown",
   "metadata": {},
   "source": [
    "# Regression Practical Assessment\n",
    "This assessment is for determining how much you have learnt in the past sprint, the results of which will be used to determine how EDSA can best prepare you for the working world. This assessment consists of and practical questions in Regression.\n",
    "\n",
    "The answers for this test will be input into Athena as Multiple Choice Questions. The questions are included in this notebook and are made **bold** and numbered according to the Athena Questions.\n",
    "\n",
    "As this is a time-constrained assessment, if you are struggling with a question, rather move on to a task you are better prepared to answer rather than spending unnecessary time on one question.\n",
    "\n",
    "**_Good Luck!_**"
   ]
  },
  {
   "cell_type": "markdown",
   "metadata": {},
   "source": [
    "## Honour Code\n",
    "I **Basheer, Ashafa**, confirm - by submitting this document - that the solutions in this notebook are a result of my own work and that I abide by the EDSA honour code (https://drive.google.com/file/d/1QDCjGZJ8-FmJE3bZdIQNwnJyQKPhHZBn/view?usp=sharing).  \n",
    "\n",
    "Non-compliance with the honour code constitutes a material breach of contract."
   ]
  },
  {
   "cell_type": "markdown",
   "metadata": {},
   "source": [
    "### Download the data\n",
    "\n",
    "Download the Notebook and data files here: https://raw.githubusercontent.com/Explore-AI/Public-Data/master/Data/Machine_Learning_Assessment.zip\n",
    "\n",
    "### Imports"
   ]
  },
  {
   "cell_type": "code",
   "execution_count": 19,
   "metadata": {},
   "outputs": [],
   "source": [
    "import numpy as np\n",
    "import pandas as pd\n",
    "\n",
    "from sklearn import preprocessing\n",
    "from sklearn.model_selection import train_test_split\n",
    "from sklearn.preprocessing import StandardScaler\n",
    "from sklearn.linear_model import LinearRegression\n",
    "from sklearn.tree import DecisionTreeRegressor"
   ]
  },
  {
   "cell_type": "markdown",
   "metadata": {},
   "source": [
    "### Reading in the data\n",
    "For this assessment we will be using a dataset about the quality of wine. Read in the data and take a look at it.\n",
    "\n",
    "**Note** the feature we will be predicting is quality, i.e. the label is quality."
   ]
  },
  {
   "cell_type": "code",
   "execution_count": 41,
   "metadata": {},
   "outputs": [
    {
     "data": {
      "text/html": [
       "<div>\n",
       "<style scoped>\n",
       "    .dataframe tbody tr th:only-of-type {\n",
       "        vertical-align: middle;\n",
       "    }\n",
       "\n",
       "    .dataframe tbody tr th {\n",
       "        vertical-align: top;\n",
       "    }\n",
       "\n",
       "    .dataframe thead th {\n",
       "        text-align: right;\n",
       "    }\n",
       "</style>\n",
       "<table border=\"1\" class=\"dataframe\">\n",
       "  <thead>\n",
       "    <tr style=\"text-align: right;\">\n",
       "      <th></th>\n",
       "      <th>type</th>\n",
       "      <th>fixed acidity</th>\n",
       "      <th>volatile acidity</th>\n",
       "      <th>citric acid</th>\n",
       "      <th>residual sugar</th>\n",
       "      <th>chlorides</th>\n",
       "      <th>free sulfur dioxide</th>\n",
       "      <th>total sulfur dioxide</th>\n",
       "      <th>density</th>\n",
       "      <th>pH</th>\n",
       "      <th>sulphates</th>\n",
       "      <th>alcohol</th>\n",
       "      <th>quality</th>\n",
       "    </tr>\n",
       "  </thead>\n",
       "  <tbody>\n",
       "    <tr>\n",
       "      <th>0</th>\n",
       "      <td>0</td>\n",
       "      <td>7.0</td>\n",
       "      <td>0.27</td>\n",
       "      <td>0.36</td>\n",
       "      <td>20.7</td>\n",
       "      <td>0.045</td>\n",
       "      <td>45.0</td>\n",
       "      <td>170.0</td>\n",
       "      <td>1.0010</td>\n",
       "      <td>3.00</td>\n",
       "      <td>0.45</td>\n",
       "      <td>8.8</td>\n",
       "      <td>6</td>\n",
       "    </tr>\n",
       "    <tr>\n",
       "      <th>1</th>\n",
       "      <td>0</td>\n",
       "      <td>6.3</td>\n",
       "      <td>0.30</td>\n",
       "      <td>0.34</td>\n",
       "      <td>1.6</td>\n",
       "      <td>0.049</td>\n",
       "      <td>14.0</td>\n",
       "      <td>132.0</td>\n",
       "      <td>0.9940</td>\n",
       "      <td>3.30</td>\n",
       "      <td>0.49</td>\n",
       "      <td>9.5</td>\n",
       "      <td>6</td>\n",
       "    </tr>\n",
       "    <tr>\n",
       "      <th>2</th>\n",
       "      <td>0</td>\n",
       "      <td>8.1</td>\n",
       "      <td>0.28</td>\n",
       "      <td>0.40</td>\n",
       "      <td>6.9</td>\n",
       "      <td>0.050</td>\n",
       "      <td>30.0</td>\n",
       "      <td>97.0</td>\n",
       "      <td>0.9951</td>\n",
       "      <td>3.26</td>\n",
       "      <td>0.44</td>\n",
       "      <td>10.1</td>\n",
       "      <td>6</td>\n",
       "    </tr>\n",
       "    <tr>\n",
       "      <th>3</th>\n",
       "      <td>0</td>\n",
       "      <td>7.2</td>\n",
       "      <td>0.23</td>\n",
       "      <td>0.32</td>\n",
       "      <td>8.5</td>\n",
       "      <td>0.058</td>\n",
       "      <td>47.0</td>\n",
       "      <td>186.0</td>\n",
       "      <td>0.9956</td>\n",
       "      <td>3.19</td>\n",
       "      <td>0.40</td>\n",
       "      <td>9.9</td>\n",
       "      <td>6</td>\n",
       "    </tr>\n",
       "    <tr>\n",
       "      <th>4</th>\n",
       "      <td>0</td>\n",
       "      <td>7.2</td>\n",
       "      <td>0.23</td>\n",
       "      <td>0.32</td>\n",
       "      <td>8.5</td>\n",
       "      <td>0.058</td>\n",
       "      <td>47.0</td>\n",
       "      <td>186.0</td>\n",
       "      <td>0.9956</td>\n",
       "      <td>3.19</td>\n",
       "      <td>0.40</td>\n",
       "      <td>9.9</td>\n",
       "      <td>6</td>\n",
       "    </tr>\n",
       "  </tbody>\n",
       "</table>\n",
       "</div>"
      ],
      "text/plain": [
       "   type  fixed acidity  volatile acidity  citric acid  residual sugar  \\\n",
       "0     0            7.0              0.27         0.36            20.7   \n",
       "1     0            6.3              0.30         0.34             1.6   \n",
       "2     0            8.1              0.28         0.40             6.9   \n",
       "3     0            7.2              0.23         0.32             8.5   \n",
       "4     0            7.2              0.23         0.32             8.5   \n",
       "\n",
       "   chlorides  free sulfur dioxide  total sulfur dioxide  density    pH  \\\n",
       "0      0.045                 45.0                 170.0   1.0010  3.00   \n",
       "1      0.049                 14.0                 132.0   0.9940  3.30   \n",
       "2      0.050                 30.0                  97.0   0.9951  3.26   \n",
       "3      0.058                 47.0                 186.0   0.9956  3.19   \n",
       "4      0.058                 47.0                 186.0   0.9956  3.19   \n",
       "\n",
       "   sulphates  alcohol  quality  \n",
       "0       0.45      8.8        6  \n",
       "1       0.49      9.5        6  \n",
       "2       0.44     10.1        6  \n",
       "3       0.40      9.9        6  \n",
       "4       0.40      9.9        6  "
      ]
     },
     "execution_count": 41,
     "metadata": {},
     "output_type": "execute_result"
    }
   ],
   "source": [
    "df = pd.read_csv('winequality.csv')\n",
    "df.head()"
   ]
  },
  {
   "cell_type": "markdown",
   "metadata": {},
   "source": [
    "## Task 1 - Data pre-processing\n",
    "\n",
    "Write a function to pre-process the data so that we can run it through the regressor. The function should:\n",
    "* If there are any NAN values, fill them with zeros\n",
    "* Split the data into features and labels\n",
    "* Standardise the features using sklearn's ```StandardScaler```\n",
    "* Split the data into 75% training and 25% testing data\n",
    "* Set random_state to equal 16 for this internal method\n",
    "\n",
    "_**Function Specifications:**_\n",
    "* Should take a dataframe as input.\n",
    "* Should return two `tuples` of the form `(X_train, y_train), (X_test, y_test)`.\n",
    "\n",
    "**Note: be sure to pay attention to the test size and random state you use as the following questions assume you split the data correctly**"
   ]
  },
  {
   "cell_type": "code",
   "execution_count": 135,
   "metadata": {},
   "outputs": [],
   "source": [
    "def data_preprocess(df):\n",
    "    # your code here\n",
    "    df = pd.DataFrame(df)\n",
    "    df.fillna(0, inplace= True)\n",
    "    X =  df.drop('quality', axis=1).to_numpy()\n",
    "    Y = df['quality'].to_numpy()\n",
    "    scaler = StandardScaler()\n",
    "    X_scaled = scaler.fit_transform(X)\n",
    "    X_train, X_test, y_train, y_test = train_test_split(X_scaled, Y, test_size=0.25, random_state=16)\n",
    "    return (X_train, y_train), (X_test, y_test)"
   ]
  },
  {
   "cell_type": "code",
   "execution_count": 131,
   "metadata": {},
   "outputs": [
    {
     "data": {
      "text/html": [
       "<div>\n",
       "<style scoped>\n",
       "    .dataframe tbody tr th:only-of-type {\n",
       "        vertical-align: middle;\n",
       "    }\n",
       "\n",
       "    .dataframe tbody tr th {\n",
       "        vertical-align: top;\n",
       "    }\n",
       "\n",
       "    .dataframe thead th {\n",
       "        text-align: right;\n",
       "    }\n",
       "</style>\n",
       "<table border=\"1\" class=\"dataframe\">\n",
       "  <thead>\n",
       "    <tr style=\"text-align: right;\">\n",
       "      <th></th>\n",
       "      <th>type</th>\n",
       "      <th>fixed acidity</th>\n",
       "      <th>volatile acidity</th>\n",
       "      <th>citric acid</th>\n",
       "      <th>residual sugar</th>\n",
       "      <th>chlorides</th>\n",
       "      <th>free sulfur dioxide</th>\n",
       "      <th>total sulfur dioxide</th>\n",
       "      <th>density</th>\n",
       "      <th>pH</th>\n",
       "      <th>sulphates</th>\n",
       "      <th>alcohol</th>\n",
       "      <th>quality</th>\n",
       "    </tr>\n",
       "  </thead>\n",
       "  <tbody>\n",
       "    <tr>\n",
       "      <th>0</th>\n",
       "      <td>0</td>\n",
       "      <td>7.0</td>\n",
       "      <td>0.270</td>\n",
       "      <td>0.36</td>\n",
       "      <td>20.7</td>\n",
       "      <td>0.045</td>\n",
       "      <td>45.0</td>\n",
       "      <td>170.0</td>\n",
       "      <td>1.00100</td>\n",
       "      <td>3.00</td>\n",
       "      <td>0.45</td>\n",
       "      <td>8.8</td>\n",
       "      <td>6</td>\n",
       "    </tr>\n",
       "    <tr>\n",
       "      <th>1</th>\n",
       "      <td>0</td>\n",
       "      <td>6.3</td>\n",
       "      <td>0.300</td>\n",
       "      <td>0.34</td>\n",
       "      <td>1.6</td>\n",
       "      <td>0.049</td>\n",
       "      <td>14.0</td>\n",
       "      <td>132.0</td>\n",
       "      <td>0.99400</td>\n",
       "      <td>3.30</td>\n",
       "      <td>0.49</td>\n",
       "      <td>9.5</td>\n",
       "      <td>6</td>\n",
       "    </tr>\n",
       "    <tr>\n",
       "      <th>2</th>\n",
       "      <td>0</td>\n",
       "      <td>8.1</td>\n",
       "      <td>0.280</td>\n",
       "      <td>0.40</td>\n",
       "      <td>6.9</td>\n",
       "      <td>0.050</td>\n",
       "      <td>30.0</td>\n",
       "      <td>97.0</td>\n",
       "      <td>0.99510</td>\n",
       "      <td>3.26</td>\n",
       "      <td>0.44</td>\n",
       "      <td>10.1</td>\n",
       "      <td>6</td>\n",
       "    </tr>\n",
       "    <tr>\n",
       "      <th>3</th>\n",
       "      <td>0</td>\n",
       "      <td>7.2</td>\n",
       "      <td>0.230</td>\n",
       "      <td>0.32</td>\n",
       "      <td>8.5</td>\n",
       "      <td>0.058</td>\n",
       "      <td>47.0</td>\n",
       "      <td>186.0</td>\n",
       "      <td>0.99560</td>\n",
       "      <td>3.19</td>\n",
       "      <td>0.40</td>\n",
       "      <td>9.9</td>\n",
       "      <td>6</td>\n",
       "    </tr>\n",
       "    <tr>\n",
       "      <th>4</th>\n",
       "      <td>0</td>\n",
       "      <td>7.2</td>\n",
       "      <td>0.230</td>\n",
       "      <td>0.32</td>\n",
       "      <td>8.5</td>\n",
       "      <td>0.058</td>\n",
       "      <td>47.0</td>\n",
       "      <td>186.0</td>\n",
       "      <td>0.99560</td>\n",
       "      <td>3.19</td>\n",
       "      <td>0.40</td>\n",
       "      <td>9.9</td>\n",
       "      <td>6</td>\n",
       "    </tr>\n",
       "    <tr>\n",
       "      <th>...</th>\n",
       "      <td>...</td>\n",
       "      <td>...</td>\n",
       "      <td>...</td>\n",
       "      <td>...</td>\n",
       "      <td>...</td>\n",
       "      <td>...</td>\n",
       "      <td>...</td>\n",
       "      <td>...</td>\n",
       "      <td>...</td>\n",
       "      <td>...</td>\n",
       "      <td>...</td>\n",
       "      <td>...</td>\n",
       "      <td>...</td>\n",
       "    </tr>\n",
       "    <tr>\n",
       "      <th>6492</th>\n",
       "      <td>1</td>\n",
       "      <td>6.2</td>\n",
       "      <td>0.600</td>\n",
       "      <td>0.08</td>\n",
       "      <td>2.0</td>\n",
       "      <td>0.090</td>\n",
       "      <td>32.0</td>\n",
       "      <td>44.0</td>\n",
       "      <td>0.99490</td>\n",
       "      <td>3.45</td>\n",
       "      <td>0.58</td>\n",
       "      <td>10.5</td>\n",
       "      <td>5</td>\n",
       "    </tr>\n",
       "    <tr>\n",
       "      <th>6493</th>\n",
       "      <td>1</td>\n",
       "      <td>5.9</td>\n",
       "      <td>0.550</td>\n",
       "      <td>0.10</td>\n",
       "      <td>2.2</td>\n",
       "      <td>0.062</td>\n",
       "      <td>39.0</td>\n",
       "      <td>51.0</td>\n",
       "      <td>0.99512</td>\n",
       "      <td>3.52</td>\n",
       "      <td>0.00</td>\n",
       "      <td>11.2</td>\n",
       "      <td>6</td>\n",
       "    </tr>\n",
       "    <tr>\n",
       "      <th>6494</th>\n",
       "      <td>1</td>\n",
       "      <td>6.3</td>\n",
       "      <td>0.510</td>\n",
       "      <td>0.13</td>\n",
       "      <td>2.3</td>\n",
       "      <td>0.076</td>\n",
       "      <td>29.0</td>\n",
       "      <td>40.0</td>\n",
       "      <td>0.99574</td>\n",
       "      <td>3.42</td>\n",
       "      <td>0.75</td>\n",
       "      <td>11.0</td>\n",
       "      <td>6</td>\n",
       "    </tr>\n",
       "    <tr>\n",
       "      <th>6495</th>\n",
       "      <td>1</td>\n",
       "      <td>5.9</td>\n",
       "      <td>0.645</td>\n",
       "      <td>0.12</td>\n",
       "      <td>2.0</td>\n",
       "      <td>0.075</td>\n",
       "      <td>32.0</td>\n",
       "      <td>44.0</td>\n",
       "      <td>0.99547</td>\n",
       "      <td>3.57</td>\n",
       "      <td>0.71</td>\n",
       "      <td>10.2</td>\n",
       "      <td>5</td>\n",
       "    </tr>\n",
       "    <tr>\n",
       "      <th>6496</th>\n",
       "      <td>1</td>\n",
       "      <td>6.0</td>\n",
       "      <td>0.310</td>\n",
       "      <td>0.47</td>\n",
       "      <td>3.6</td>\n",
       "      <td>0.067</td>\n",
       "      <td>18.0</td>\n",
       "      <td>42.0</td>\n",
       "      <td>0.99549</td>\n",
       "      <td>3.39</td>\n",
       "      <td>0.66</td>\n",
       "      <td>11.0</td>\n",
       "      <td>6</td>\n",
       "    </tr>\n",
       "  </tbody>\n",
       "</table>\n",
       "<p>6497 rows × 13 columns</p>\n",
       "</div>"
      ],
      "text/plain": [
       "      type  fixed acidity  volatile acidity  citric acid  residual sugar  \\\n",
       "0        0            7.0             0.270         0.36            20.7   \n",
       "1        0            6.3             0.300         0.34             1.6   \n",
       "2        0            8.1             0.280         0.40             6.9   \n",
       "3        0            7.2             0.230         0.32             8.5   \n",
       "4        0            7.2             0.230         0.32             8.5   \n",
       "...    ...            ...               ...          ...             ...   \n",
       "6492     1            6.2             0.600         0.08             2.0   \n",
       "6493     1            5.9             0.550         0.10             2.2   \n",
       "6494     1            6.3             0.510         0.13             2.3   \n",
       "6495     1            5.9             0.645         0.12             2.0   \n",
       "6496     1            6.0             0.310         0.47             3.6   \n",
       "\n",
       "      chlorides  free sulfur dioxide  total sulfur dioxide  density    pH  \\\n",
       "0         0.045                 45.0                 170.0  1.00100  3.00   \n",
       "1         0.049                 14.0                 132.0  0.99400  3.30   \n",
       "2         0.050                 30.0                  97.0  0.99510  3.26   \n",
       "3         0.058                 47.0                 186.0  0.99560  3.19   \n",
       "4         0.058                 47.0                 186.0  0.99560  3.19   \n",
       "...         ...                  ...                   ...      ...   ...   \n",
       "6492      0.090                 32.0                  44.0  0.99490  3.45   \n",
       "6493      0.062                 39.0                  51.0  0.99512  3.52   \n",
       "6494      0.076                 29.0                  40.0  0.99574  3.42   \n",
       "6495      0.075                 32.0                  44.0  0.99547  3.57   \n",
       "6496      0.067                 18.0                  42.0  0.99549  3.39   \n",
       "\n",
       "      sulphates  alcohol  quality  \n",
       "0          0.45      8.8        6  \n",
       "1          0.49      9.5        6  \n",
       "2          0.44     10.1        6  \n",
       "3          0.40      9.9        6  \n",
       "4          0.40      9.9        6  \n",
       "...         ...      ...      ...  \n",
       "6492       0.58     10.5        5  \n",
       "6493       0.00     11.2        6  \n",
       "6494       0.75     11.0        6  \n",
       "6495       0.71     10.2        5  \n",
       "6496       0.66     11.0        6  \n",
       "\n",
       "[6497 rows x 13 columns]"
      ]
     },
     "execution_count": 131,
     "metadata": {},
     "output_type": "execute_result"
    }
   ],
   "source": []
  },
  {
   "cell_type": "code",
   "execution_count": 136,
   "metadata": {},
   "outputs": [
    {
     "name": "stdout",
     "output_type": "stream",
     "text": [
      "[ 1.75018984 -0.00412596  0.12564592  0.97278786 -0.70253493  0.51297929\n",
      " -0.36766435 -1.26942219  0.21456681  0.92881824  2.13682458  0.42611996]\n",
      "7\n",
      "[-0.57136659 -0.30574457 -0.54115965 -0.12776549  1.33614333 -0.37168026\n",
      "  1.26631947  0.30531117  0.18121615 -0.91820734  0.32886116 -0.07697409]\n",
      "6\n"
     ]
    }
   ],
   "source": [
    "(X_train, y_train), (X_test, y_test) = data_preprocess(df)\n",
    "print(X_train[0])\n",
    "print(y_train[0])\n",
    "print(X_test[3])\n",
    "print(y_test[3])"
   ]
  },
  {
   "cell_type": "code",
   "execution_count": 107,
   "metadata": {},
   "outputs": [
    {
     "data": {
      "text/plain": [
       "array([5, 6, 8, ..., 6, 7, 7], dtype=int64)"
      ]
     },
     "execution_count": 107,
     "metadata": {},
     "output_type": "execute_result"
    }
   ],
   "source": [
    "y_test"
   ]
  },
  {
   "cell_type": "markdown",
   "metadata": {},
   "source": [
    "_**Expected Outputs:**_\n",
    "\n",
    "```python\n",
    "(X_train, y_train), (X_test, y_test) = data_preprocess(df)\n",
    "print(X_train[0])\n",
    "print(y_train[0])\n",
    "print(X_test[3])\n",
    "print(y_test[3])\n",
    "\n",
    "[ 1.75018984 -0.00412596  0.12564592  0.97278786 -0.70253493  0.51297929\n",
    " -0.36766435 -1.26942219  0.21456681  0.92881824  2.13682458  0.42611996]\n",
    "7\n",
    "[-0.57136659 -0.30574457 -0.54115965 -0.12776549  1.33614333 -0.37168026\n",
    "  1.26631947  0.30531117  0.18121615 -0.91820734  0.32886116 -0.07697409]\n",
    "6\n",
    "\n",
    "```"
   ]
  },
  {
   "cell_type": "code",
   "execution_count": 64,
   "metadata": {},
   "outputs": [
    {
     "data": {
      "text/plain": [
       "0     0\n",
       "1     1\n",
       "2     2\n",
       "3     2\n",
       "4     1\n",
       "5     0\n",
       "6     0\n",
       "7     0\n",
       "8     0\n",
       "9     1\n",
       "10    1\n",
       "11    0\n",
       "dtype: int64"
      ]
     },
     "execution_count": 64,
     "metadata": {},
     "output_type": "execute_result"
    }
   ],
   "source": [
    "new.isna().sum()"
   ]
  },
  {
   "cell_type": "code",
   "execution_count": 140,
   "metadata": {},
   "outputs": [
    {
     "data": {
      "text/plain": [
       "0     1.750190\n",
       "1     2.785846\n",
       "2     0.186265\n",
       "3     1.798203\n",
       "4    -0.303206\n",
       "5     0.427367\n",
       "6    -0.762074\n",
       "7    -0.897856\n",
       "8     1.551928\n",
       "9     0.030265\n",
       "10    1.668093\n",
       "11   -0.328521\n",
       "Name: 16, dtype: float64"
      ]
     },
     "execution_count": 140,
     "metadata": {},
     "output_type": "execute_result"
    }
   ],
   "source": [
    "new= pd.DataFrame(X_test)\n",
    "new.loc[16]"
   ]
  },
  {
   "cell_type": "code",
   "execution_count": 141,
   "metadata": {},
   "outputs": [
    {
     "data": {
      "text/html": [
       "<div>\n",
       "<style scoped>\n",
       "    .dataframe tbody tr th:only-of-type {\n",
       "        vertical-align: middle;\n",
       "    }\n",
       "\n",
       "    .dataframe tbody tr th {\n",
       "        vertical-align: top;\n",
       "    }\n",
       "\n",
       "    .dataframe thead th {\n",
       "        text-align: right;\n",
       "    }\n",
       "</style>\n",
       "<table border=\"1\" class=\"dataframe\">\n",
       "  <thead>\n",
       "    <tr style=\"text-align: right;\">\n",
       "      <th></th>\n",
       "      <th>0</th>\n",
       "      <th>1</th>\n",
       "      <th>2</th>\n",
       "      <th>3</th>\n",
       "      <th>4</th>\n",
       "      <th>5</th>\n",
       "      <th>6</th>\n",
       "      <th>7</th>\n",
       "      <th>8</th>\n",
       "      <th>9</th>\n",
       "      <th>10</th>\n",
       "      <th>11</th>\n",
       "    </tr>\n",
       "  </thead>\n",
       "  <tbody>\n",
       "    <tr>\n",
       "      <th>0</th>\n",
       "      <td>-0.571367</td>\n",
       "      <td>-0.531959</td>\n",
       "      <td>-0.147138</td>\n",
       "      <td>-0.815611</td>\n",
       "      <td>0.243244</td>\n",
       "      <td>-0.428755</td>\n",
       "      <td>-1.212828</td>\n",
       "      <td>0.181456</td>\n",
       "      <td>0.081164</td>\n",
       "      <td>-1.367484</td>\n",
       "      <td>-0.139870</td>\n",
       "      <td>-1.418558</td>\n",
       "    </tr>\n",
       "    <tr>\n",
       "      <th>1</th>\n",
       "      <td>1.750190</td>\n",
       "      <td>1.880990</td>\n",
       "      <td>-0.177448</td>\n",
       "      <td>1.041572</td>\n",
       "      <td>-0.807621</td>\n",
       "      <td>0.170530</td>\n",
       "      <td>-0.987451</td>\n",
       "      <td>-1.464052</td>\n",
       "      <td>1.201746</td>\n",
       "      <td>0.279863</td>\n",
       "      <td>0.864554</td>\n",
       "      <td>-0.412370</td>\n",
       "    </tr>\n",
       "    <tr>\n",
       "      <th>2</th>\n",
       "      <td>-0.571367</td>\n",
       "      <td>-0.833577</td>\n",
       "      <td>-0.359304</td>\n",
       "      <td>-0.334119</td>\n",
       "      <td>-0.156085</td>\n",
       "      <td>-0.742667</td>\n",
       "      <td>1.435352</td>\n",
       "      <td>0.429167</td>\n",
       "      <td>-1.426285</td>\n",
       "      <td>-0.269252</td>\n",
       "      <td>-0.742525</td>\n",
       "      <td>1.683855</td>\n",
       "    </tr>\n",
       "    <tr>\n",
       "      <th>3</th>\n",
       "      <td>-0.571367</td>\n",
       "      <td>-0.305745</td>\n",
       "      <td>-0.541160</td>\n",
       "      <td>-0.127765</td>\n",
       "      <td>1.336143</td>\n",
       "      <td>-0.371680</td>\n",
       "      <td>1.266319</td>\n",
       "      <td>0.305311</td>\n",
       "      <td>0.181216</td>\n",
       "      <td>-0.918207</td>\n",
       "      <td>0.328861</td>\n",
       "      <td>-0.076974</td>\n",
       "    </tr>\n",
       "    <tr>\n",
       "      <th>4</th>\n",
       "      <td>-0.571367</td>\n",
       "      <td>-0.230340</td>\n",
       "      <td>-0.601778</td>\n",
       "      <td>0.353727</td>\n",
       "      <td>0.138157</td>\n",
       "      <td>-0.828279</td>\n",
       "      <td>0.421155</td>\n",
       "      <td>-0.066255</td>\n",
       "      <td>-1.279542</td>\n",
       "      <td>-0.119494</td>\n",
       "      <td>-1.278217</td>\n",
       "      <td>1.600006</td>\n",
       "    </tr>\n",
       "    <tr>\n",
       "      <th>5</th>\n",
       "      <td>-0.571367</td>\n",
       "      <td>0.523707</td>\n",
       "      <td>-0.844253</td>\n",
       "      <td>1.179142</td>\n",
       "      <td>-0.807621</td>\n",
       "      <td>-0.086306</td>\n",
       "      <td>-0.874763</td>\n",
       "      <td>0.499941</td>\n",
       "      <td>-0.565838</td>\n",
       "      <td>-0.269252</td>\n",
       "      <td>-0.407717</td>\n",
       "      <td>0.006875</td>\n",
       "    </tr>\n",
       "    <tr>\n",
       "      <th>6</th>\n",
       "      <td>-0.571367</td>\n",
       "      <td>-0.154935</td>\n",
       "      <td>-1.086728</td>\n",
       "      <td>0.284942</td>\n",
       "      <td>-0.597448</td>\n",
       "      <td>-0.771204</td>\n",
       "      <td>-0.142287</td>\n",
       "      <td>-0.313966</td>\n",
       "      <td>-1.146140</td>\n",
       "      <td>-0.518850</td>\n",
       "      <td>-1.077333</td>\n",
       "      <td>0.593818</td>\n",
       "    </tr>\n",
       "    <tr>\n",
       "      <th>7</th>\n",
       "      <td>-0.571367</td>\n",
       "      <td>-0.908982</td>\n",
       "      <td>-0.116829</td>\n",
       "      <td>-0.127765</td>\n",
       "      <td>0.390365</td>\n",
       "      <td>3.366720</td>\n",
       "      <td>0.871910</td>\n",
       "      <td>0.765346</td>\n",
       "      <td>0.164541</td>\n",
       "      <td>-0.169413</td>\n",
       "      <td>-0.273793</td>\n",
       "      <td>-0.915464</td>\n",
       "    </tr>\n",
       "    <tr>\n",
       "      <th>8</th>\n",
       "      <td>-0.571367</td>\n",
       "      <td>-0.531959</td>\n",
       "      <td>-0.723016</td>\n",
       "      <td>0.009804</td>\n",
       "      <td>-0.681518</td>\n",
       "      <td>-0.799741</td>\n",
       "      <td>0.308467</td>\n",
       "      <td>-0.420128</td>\n",
       "      <td>-1.312893</td>\n",
       "      <td>0.279863</td>\n",
       "      <td>0.395823</td>\n",
       "      <td>1.180761</td>\n",
       "    </tr>\n",
       "    <tr>\n",
       "      <th>9</th>\n",
       "      <td>-0.571367</td>\n",
       "      <td>-1.135196</td>\n",
       "      <td>-0.480541</td>\n",
       "      <td>-0.127765</td>\n",
       "      <td>-0.765587</td>\n",
       "      <td>-0.485830</td>\n",
       "      <td>-0.029599</td>\n",
       "      <td>-0.190111</td>\n",
       "      <td>-1.583033</td>\n",
       "      <td>1.328175</td>\n",
       "      <td>-0.072908</td>\n",
       "      <td>1.683855</td>\n",
       "    </tr>\n",
       "    <tr>\n",
       "      <th>10</th>\n",
       "      <td>-0.571367</td>\n",
       "      <td>-0.531959</td>\n",
       "      <td>-0.419922</td>\n",
       "      <td>-0.884396</td>\n",
       "      <td>-0.261172</td>\n",
       "      <td>-0.286068</td>\n",
       "      <td>-1.381861</td>\n",
       "      <td>-0.030868</td>\n",
       "      <td>0.267928</td>\n",
       "      <td>0.180024</td>\n",
       "      <td>-1.211256</td>\n",
       "      <td>-1.586256</td>\n",
       "    </tr>\n",
       "    <tr>\n",
       "      <th>11</th>\n",
       "      <td>1.750190</td>\n",
       "      <td>-1.512219</td>\n",
       "      <td>0.853070</td>\n",
       "      <td>-1.916165</td>\n",
       "      <td>-0.807621</td>\n",
       "      <td>-0.057769</td>\n",
       "      <td>-0.649386</td>\n",
       "      <td>-0.172417</td>\n",
       "      <td>-0.665890</td>\n",
       "      <td>1.627693</td>\n",
       "      <td>0.596708</td>\n",
       "      <td>1.432308</td>\n",
       "    </tr>\n",
       "    <tr>\n",
       "      <th>12</th>\n",
       "      <td>-0.571367</td>\n",
       "      <td>-0.833577</td>\n",
       "      <td>-0.480541</td>\n",
       "      <td>1.316711</td>\n",
       "      <td>-0.681518</td>\n",
       "      <td>-0.171918</td>\n",
       "      <td>1.717074</td>\n",
       "      <td>0.676877</td>\n",
       "      <td>-0.599189</td>\n",
       "      <td>-0.668609</td>\n",
       "      <td>0.462784</td>\n",
       "      <td>-0.580068</td>\n",
       "    </tr>\n",
       "    <tr>\n",
       "      <th>13</th>\n",
       "      <td>1.750190</td>\n",
       "      <td>3.766107</td>\n",
       "      <td>0.671214</td>\n",
       "      <td>1.179142</td>\n",
       "      <td>-0.849656</td>\n",
       "      <td>0.541517</td>\n",
       "      <td>-1.550894</td>\n",
       "      <td>-1.941780</td>\n",
       "      <td>0.734837</td>\n",
       "      <td>-0.419011</td>\n",
       "      <td>0.663669</td>\n",
       "      <td>-0.076974</td>\n",
       "    </tr>\n",
       "  </tbody>\n",
       "</table>\n",
       "</div>"
      ],
      "text/plain": [
       "          0         1         2         3         4         5         6   \\\n",
       "0  -0.571367 -0.531959 -0.147138 -0.815611  0.243244 -0.428755 -1.212828   \n",
       "1   1.750190  1.880990 -0.177448  1.041572 -0.807621  0.170530 -0.987451   \n",
       "2  -0.571367 -0.833577 -0.359304 -0.334119 -0.156085 -0.742667  1.435352   \n",
       "3  -0.571367 -0.305745 -0.541160 -0.127765  1.336143 -0.371680  1.266319   \n",
       "4  -0.571367 -0.230340 -0.601778  0.353727  0.138157 -0.828279  0.421155   \n",
       "5  -0.571367  0.523707 -0.844253  1.179142 -0.807621 -0.086306 -0.874763   \n",
       "6  -0.571367 -0.154935 -1.086728  0.284942 -0.597448 -0.771204 -0.142287   \n",
       "7  -0.571367 -0.908982 -0.116829 -0.127765  0.390365  3.366720  0.871910   \n",
       "8  -0.571367 -0.531959 -0.723016  0.009804 -0.681518 -0.799741  0.308467   \n",
       "9  -0.571367 -1.135196 -0.480541 -0.127765 -0.765587 -0.485830 -0.029599   \n",
       "10 -0.571367 -0.531959 -0.419922 -0.884396 -0.261172 -0.286068 -1.381861   \n",
       "11  1.750190 -1.512219  0.853070 -1.916165 -0.807621 -0.057769 -0.649386   \n",
       "12 -0.571367 -0.833577 -0.480541  1.316711 -0.681518 -0.171918  1.717074   \n",
       "13  1.750190  3.766107  0.671214  1.179142 -0.849656  0.541517 -1.550894   \n",
       "\n",
       "          7         8         9         10        11  \n",
       "0   0.181456  0.081164 -1.367484 -0.139870 -1.418558  \n",
       "1  -1.464052  1.201746  0.279863  0.864554 -0.412370  \n",
       "2   0.429167 -1.426285 -0.269252 -0.742525  1.683855  \n",
       "3   0.305311  0.181216 -0.918207  0.328861 -0.076974  \n",
       "4  -0.066255 -1.279542 -0.119494 -1.278217  1.600006  \n",
       "5   0.499941 -0.565838 -0.269252 -0.407717  0.006875  \n",
       "6  -0.313966 -1.146140 -0.518850 -1.077333  0.593818  \n",
       "7   0.765346  0.164541 -0.169413 -0.273793 -0.915464  \n",
       "8  -0.420128 -1.312893  0.279863  0.395823  1.180761  \n",
       "9  -0.190111 -1.583033  1.328175 -0.072908  1.683855  \n",
       "10 -0.030868  0.267928  0.180024 -1.211256 -1.586256  \n",
       "11 -0.172417 -0.665890  1.627693  0.596708  1.432308  \n",
       "12  0.676877 -0.599189 -0.668609  0.462784 -0.580068  \n",
       "13 -1.941780  0.734837 -0.419011  0.663669 -0.076974  "
      ]
     },
     "execution_count": 141,
     "metadata": {},
     "output_type": "execute_result"
    }
   ],
   "source": [
    "new.loc[0:13, 0:14]"
   ]
  },
  {
   "cell_type": "markdown",
   "metadata": {},
   "source": [
    "**Q11. What is the result of printing out the 6th column and the 13th row of X_train?**\n",
    "\n",
    "**Q12. What is the result of printing out the 6th column and the 13th row of X_test?**\n",
    "\n",
    "**Q13. What is the result of printing out the 16th row of y_train?**\n",
    "\n",
    "**Q14. What is the result of printing out the 16th row of y_test?**"
   ]
  },
  {
   "cell_type": "markdown",
   "metadata": {},
   "source": [
    "## Task 2 - Train Linear Regression Model\n",
    "\n",
    "Since this dataset is about predicting quality, which ranges from 1 to 10, lets try fit the data to a regression model and see how well that performs.\n",
    "\n",
    "Fit a model using sklearn's `LinearRegression` class with its default parameters. Write a function that will take as input `(X_train, y_train)` that we created previously, and return a trained model.\n",
    "\n",
    "_**Function Specifications:**_\n",
    "* Should take two numpy `arrays` as input in the form `(X_train, y_train)`.\n",
    "* Should return an sklearn `LinearRegression` model.\n",
    "* The returned model should be fitted to the data."
   ]
  },
  {
   "cell_type": "code",
   "execution_count": 144,
   "metadata": {},
   "outputs": [],
   "source": [
    "def train_model(X_train, y_train):\n",
    "    # your code here\n",
    "    X = X_train\n",
    "    Y = y_train\n",
    "    lm = LinearRegression()\n",
    "    return lm.fit(X, Y)"
   ]
  },
  {
   "cell_type": "code",
   "execution_count": 145,
   "metadata": {},
   "outputs": [],
   "source": [
    "lm = train_model(X_train, y_train)"
   ]
  },
  {
   "cell_type": "code",
   "execution_count": 152,
   "metadata": {},
   "outputs": [
    {
     "data": {
      "text/plain": [
       "-0.26"
      ]
     },
     "execution_count": 152,
     "metadata": {},
     "output_type": "execute_result"
    }
   ],
   "source": [
    "coef= round(lm.coef_[2], 2)\n",
    "coef"
   ]
  },
  {
   "cell_type": "code",
   "execution_count": 149,
   "metadata": {},
   "outputs": [
    {
     "data": {
      "text/plain": [
       "5.821"
      ]
     },
     "execution_count": 149,
     "metadata": {},
     "output_type": "execute_result"
    }
   ],
   "source": [
    "round(lm.intercept_,3)"
   ]
  },
  {
   "cell_type": "markdown",
   "metadata": {},
   "source": [
    "**Q15. What is the value of the *_intercept_* of the trained model rounded to 3 decimal places?**\n",
    "\n",
    "**Q16. What is the value of the *_coefficient_* of the trained model rounded to 2 decimal places?**"
   ]
  },
  {
   "cell_type": "markdown",
   "metadata": {},
   "source": [
    "## Task 3 - Test Regression Model\n",
    "\n",
    "We would now like to test our regression model. This test should give the residual sum of squares, which for your convenience is written as\n",
    "$$\n",
    "RSS = \\sum_{i=1}^N (p_i - y_i)^2,\n",
    "$$\n",
    "where $p_i$ refers to the $i^{\\rm th}$ prediction made from `X_test`, $y_i$ refers to the $i^{\\rm th}$ value in `y_test`, and $N$ is the length of `y_test`.\n",
    "\n",
    "_**Function Specifications:**_\n",
    "* Should take a trained model and two `arrays` as input. This will be the `X_test` and `y_test` variables. \n",
    "* Should return the residual sum of squares over the input from the predicted values of `X_test` as compared to values of `y_test`.\n",
    "* The output should be a `float` rounded to 2 decimal places."
   ]
  },
  {
   "cell_type": "code",
   "execution_count": 158,
   "metadata": {},
   "outputs": [],
   "source": [
    "def test_model(lm, X_test, y_test):\n",
    "    # your code here\n",
    "    y_pred = lm.predict(X_test)\n",
    "    df=pd.DataFrame({\"Pred\": y_pred, \"Real_Y\":y_test})\n",
    "    Rss = np.sum(np.square(df['Pred'] - df['Real_Y']))\n",
    "    RSS = round(Rss, 2)\n",
    "    return RSS\n"
   ]
  },
  {
   "cell_type": "code",
   "execution_count": 159,
   "metadata": {},
   "outputs": [
    {
     "data": {
      "text/plain": [
       "882.3"
      ]
     },
     "execution_count": 159,
     "metadata": {},
     "output_type": "execute_result"
    }
   ],
   "source": [
    "test_model(lm, X_test, y_test)"
   ]
  },
  {
   "cell_type": "markdown",
   "metadata": {},
   "source": [
    "**Q17. What is the residual sum of squares value for the *_Linear Regression_* model fitted to the test set?**"
   ]
  },
  {
   "cell_type": "markdown",
   "metadata": {},
   "source": [
    "## Task 4 - Train Decision Tree Regresson Model\n",
    "\n",
    "Let us try improve this accuracy by training a model using sklearn's `DecisionTreeRegressor` class with a random state value of 42. Write a function that will take as input `(X_train, y_train)` that we created previously, and return a trained model.\n",
    "\n",
    "_**Function Specifications:**_\n",
    "* Should take two numpy `arrays` as input in the form `(X_train, y_train)`.\n",
    "* Should return an sklearn `DecisionTreeRegressor` model with a random state value of 42.\n",
    "* The returned model should be fitted to the data."
   ]
  },
  {
   "cell_type": "code",
   "execution_count": 161,
   "metadata": {},
   "outputs": [],
   "source": [
    "def train_dt_model(X_train, y_train):\n",
    "    # your code here\n",
    "    regr_tree = DecisionTreeRegressor(random_state=42)\n",
    "    return regr_tree.fit(X_train,y_train)\n"
   ]
  },
  {
   "cell_type": "code",
   "execution_count": 162,
   "metadata": {},
   "outputs": [],
   "source": [
    "dec_mod= train_dt_model(X_train, y_train)"
   ]
  },
  {
   "cell_type": "markdown",
   "metadata": {},
   "source": [
    "Now that you have trained your model, lets see how well it does on the test set. Use the test_reg_model function you previously created to do this."
   ]
  },
  {
   "cell_type": "code",
   "execution_count": 163,
   "metadata": {},
   "outputs": [],
   "source": [
    "def test_model(regre_tree, X_test, y_test):\n",
    "    # your code here\n",
    "    y_pred = regre_tree.predict(X_test)\n",
    "    df=pd.DataFrame({\"Pred\": y_pred, \"Real_Y\":y_test})\n",
    "    Rss = np.sum(np.square(df['Pred'] - df['Real_Y']))\n",
    "    RSS = round(Rss, 2)\n",
    "    return RSS\n"
   ]
  },
  {
   "cell_type": "code",
   "execution_count": 164,
   "metadata": {},
   "outputs": [
    {
     "data": {
      "text/plain": [
       "1113.0"
      ]
     },
     "execution_count": 164,
     "metadata": {},
     "output_type": "execute_result"
    }
   ],
   "source": [
    "test_model(dec_mod,X_test, y_test)"
   ]
  },
  {
   "cell_type": "markdown",
   "metadata": {},
   "source": [
    "**Q18. What is the residual sum of squares value for the decision tree regression model, fitted on the test set?**"
   ]
  },
  {
   "cell_type": "markdown",
   "metadata": {},
   "source": [
    "## Task 5 - Mean Absolute Error\n",
    "Write a function to compute the Mean Absolute Error (MAE), which is given by:\n",
    "\n",
    "$$\n",
    "MAE = \\frac{1}{N} \\sum_{n=i}^N |p_i - y_i|\n",
    "$$\n",
    "\n",
    "where $p_i$ refers to the $i^{\\rm th}$ `prediction`, $y_i$ refers to the $i^{\\rm th}$ value in `y_test`, and $N$ is the length of `y_test`.\n",
    "\n",
    "_**Function Specifications:**_\n",
    "* Should take two `arrays` as input. You can think of these as the `predictions` and `y_test` variables you get when testing a model. \n",
    "* Should return the mean absolute error over the input from the predicted values of `X_test` as compared to values of `y_test`.\n",
    "* The output should be a `float` rounded to 3 decimal places."
   ]
  },
  {
   "cell_type": "code",
   "execution_count": 174,
   "metadata": {},
   "outputs": [],
   "source": [
    "def mean_abs_err(pred, y_test):\n",
    "    # your code here\n",
    "    n = len(pred)\n",
    "    Sum = 0\n",
    "    for num in range(n):\n",
    "        Sum += abs(y_test[num] - pred[num])\n",
    "    error = Sum/n\n",
    "    \n",
    "    return round(float(error), 3) "
   ]
  },
  {
   "cell_type": "code",
   "execution_count": null,
   "metadata": {},
   "outputs": [],
   "source": []
  },
  {
   "cell_type": "markdown",
   "metadata": {},
   "source": [
    "**Q19. What is the result of printing out** `mean_abs_err(np.array([7.5,7,1.2]),np.array([3.2,2,-2]))`**?**"
   ]
  },
  {
   "cell_type": "code",
   "execution_count": 175,
   "metadata": {},
   "outputs": [
    {
     "data": {
      "text/plain": [
       "4.167"
      ]
     },
     "execution_count": 175,
     "metadata": {},
     "output_type": "execute_result"
    }
   ],
   "source": [
    "v=mean_abs_err(np.array([7.5,7,1.2]),np.array([3.2,2,-2]))\n",
    "v"
   ]
  },
  {
   "cell_type": "markdown",
   "metadata": {},
   "source": [
    "**Q20. Which regression model (linear vs decision tree) has the lowest mean absolute error?**"
   ]
  },
  {
   "cell_type": "code",
   "execution_count": 171,
   "metadata": {},
   "outputs": [],
   "source": [
    "pred_l= lm.predict(X_test)\n",
    "pred_r= dt.predict(X_test)"
   ]
  },
  {
   "cell_type": "code",
   "execution_count": 172,
   "metadata": {},
   "outputs": [
    {
     "data": {
      "text/plain": [
       "0.577"
      ]
     },
     "execution_count": 172,
     "metadata": {},
     "output_type": "execute_result"
    }
   ],
   "source": [
    "mean_abs_err(pred_l, y_test)"
   ]
  },
  {
   "cell_type": "code",
   "execution_count": 173,
   "metadata": {},
   "outputs": [
    {
     "data": {
      "text/plain": [
       "0.486"
      ]
     },
     "execution_count": 173,
     "metadata": {},
     "output_type": "execute_result"
    }
   ],
   "source": [
    "mean_abs_err(pred_r, y_test)"
   ]
  }
 ],
 "metadata": {
  "kernelspec": {
   "display_name": "Python 3 (ipykernel)",
   "language": "python",
   "name": "python3"
  },
  "language_info": {
   "codemirror_mode": {
    "name": "ipython",
    "version": 3
   },
   "file_extension": ".py",
   "mimetype": "text/x-python",
   "name": "python",
   "nbconvert_exporter": "python",
   "pygments_lexer": "ipython3",
   "version": "3.9.7"
  }
 },
 "nbformat": 4,
 "nbformat_minor": 4
}
